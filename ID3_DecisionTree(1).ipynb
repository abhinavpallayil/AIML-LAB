{
  "nbformat": 4,
  "nbformat_minor": 0,
  "metadata": {
    "colab": {
      "provenance": []
    },
    "kernelspec": {
      "name": "python3",
      "display_name": "Python 3"
    },
    "language_info": {
      "name": "python"
    }
  },
  "cells": [
    {
      "cell_type": "markdown",
      "source": [
        "## Richa Motwani\n",
        "2019120040"
      ],
      "metadata": {
        "id": "FEta_4AKsdGv"
      }
    },
    {
      "cell_type": "code",
      "execution_count": null,
      "metadata": {
        "id": "YruQJKG_aNE2"
      },
      "outputs": [],
      "source": [
        "import pandas as pd\n",
        "import numpy as np"
      ]
    },
    {
      "cell_type": "code",
      "source": [
        "df = pd.read_csv('/content/data.csv')"
      ],
      "metadata": {
        "id": "Hkq7UQtUbMlR"
      },
      "execution_count": null,
      "outputs": []
    },
    {
      "cell_type": "code",
      "source": [
        "df.head()"
      ],
      "metadata": {
        "colab": {
          "base_uri": "https://localhost:8080/",
          "height": 206
        },
        "id": "sWHgwWcIbjPR",
        "outputId": "57565667-a774-4b3d-f3cc-2efe39fa4372"
      },
      "execution_count": null,
      "outputs": [
        {
          "output_type": "execute_result",
          "data": {
            "text/plain": [
              "      genre company     origin duration     time    place enjoy movie\n",
              "0  romantic     yes  bollywood    short  morning     home         yes\n",
              "1    action     yes  bollywood    short  morning  theatre         yes\n",
              "2  thriller      no  hollywood    short  evening  theatre          no\n",
              "3    comedy     yes  bollywood    short  morning     home         yes\n",
              "4    comedy     yes  hollywood    short  morning     home         yes"
            ],
            "text/html": [
              "\n",
              "  <div id=\"df-287e3175-ad53-4d0f-bad4-d856002f5259\">\n",
              "    <div class=\"colab-df-container\">\n",
              "      <div>\n",
              "<style scoped>\n",
              "    .dataframe tbody tr th:only-of-type {\n",
              "        vertical-align: middle;\n",
              "    }\n",
              "\n",
              "    .dataframe tbody tr th {\n",
              "        vertical-align: top;\n",
              "    }\n",
              "\n",
              "    .dataframe thead th {\n",
              "        text-align: right;\n",
              "    }\n",
              "</style>\n",
              "<table border=\"1\" class=\"dataframe\">\n",
              "  <thead>\n",
              "    <tr style=\"text-align: right;\">\n",
              "      <th></th>\n",
              "      <th>genre</th>\n",
              "      <th>company</th>\n",
              "      <th>origin</th>\n",
              "      <th>duration</th>\n",
              "      <th>time</th>\n",
              "      <th>place</th>\n",
              "      <th>enjoy movie</th>\n",
              "    </tr>\n",
              "  </thead>\n",
              "  <tbody>\n",
              "    <tr>\n",
              "      <th>0</th>\n",
              "      <td>romantic</td>\n",
              "      <td>yes</td>\n",
              "      <td>bollywood</td>\n",
              "      <td>short</td>\n",
              "      <td>morning</td>\n",
              "      <td>home</td>\n",
              "      <td>yes</td>\n",
              "    </tr>\n",
              "    <tr>\n",
              "      <th>1</th>\n",
              "      <td>action</td>\n",
              "      <td>yes</td>\n",
              "      <td>bollywood</td>\n",
              "      <td>short</td>\n",
              "      <td>morning</td>\n",
              "      <td>theatre</td>\n",
              "      <td>yes</td>\n",
              "    </tr>\n",
              "    <tr>\n",
              "      <th>2</th>\n",
              "      <td>thriller</td>\n",
              "      <td>no</td>\n",
              "      <td>hollywood</td>\n",
              "      <td>short</td>\n",
              "      <td>evening</td>\n",
              "      <td>theatre</td>\n",
              "      <td>no</td>\n",
              "    </tr>\n",
              "    <tr>\n",
              "      <th>3</th>\n",
              "      <td>comedy</td>\n",
              "      <td>yes</td>\n",
              "      <td>bollywood</td>\n",
              "      <td>short</td>\n",
              "      <td>morning</td>\n",
              "      <td>home</td>\n",
              "      <td>yes</td>\n",
              "    </tr>\n",
              "    <tr>\n",
              "      <th>4</th>\n",
              "      <td>comedy</td>\n",
              "      <td>yes</td>\n",
              "      <td>hollywood</td>\n",
              "      <td>short</td>\n",
              "      <td>morning</td>\n",
              "      <td>home</td>\n",
              "      <td>yes</td>\n",
              "    </tr>\n",
              "  </tbody>\n",
              "</table>\n",
              "</div>\n",
              "      <button class=\"colab-df-convert\" onclick=\"convertToInteractive('df-287e3175-ad53-4d0f-bad4-d856002f5259')\"\n",
              "              title=\"Convert this dataframe to an interactive table.\"\n",
              "              style=\"display:none;\">\n",
              "        \n",
              "  <svg xmlns=\"http://www.w3.org/2000/svg\" height=\"24px\"viewBox=\"0 0 24 24\"\n",
              "       width=\"24px\">\n",
              "    <path d=\"M0 0h24v24H0V0z\" fill=\"none\"/>\n",
              "    <path d=\"M18.56 5.44l.94 2.06.94-2.06 2.06-.94-2.06-.94-.94-2.06-.94 2.06-2.06.94zm-11 1L8.5 8.5l.94-2.06 2.06-.94-2.06-.94L8.5 2.5l-.94 2.06-2.06.94zm10 10l.94 2.06.94-2.06 2.06-.94-2.06-.94-.94-2.06-.94 2.06-2.06.94z\"/><path d=\"M17.41 7.96l-1.37-1.37c-.4-.4-.92-.59-1.43-.59-.52 0-1.04.2-1.43.59L10.3 9.45l-7.72 7.72c-.78.78-.78 2.05 0 2.83L4 21.41c.39.39.9.59 1.41.59.51 0 1.02-.2 1.41-.59l7.78-7.78 2.81-2.81c.8-.78.8-2.07 0-2.86zM5.41 20L4 18.59l7.72-7.72 1.47 1.35L5.41 20z\"/>\n",
              "  </svg>\n",
              "      </button>\n",
              "      \n",
              "  <style>\n",
              "    .colab-df-container {\n",
              "      display:flex;\n",
              "      flex-wrap:wrap;\n",
              "      gap: 12px;\n",
              "    }\n",
              "\n",
              "    .colab-df-convert {\n",
              "      background-color: #E8F0FE;\n",
              "      border: none;\n",
              "      border-radius: 50%;\n",
              "      cursor: pointer;\n",
              "      display: none;\n",
              "      fill: #1967D2;\n",
              "      height: 32px;\n",
              "      padding: 0 0 0 0;\n",
              "      width: 32px;\n",
              "    }\n",
              "\n",
              "    .colab-df-convert:hover {\n",
              "      background-color: #E2EBFA;\n",
              "      box-shadow: 0px 1px 2px rgba(60, 64, 67, 0.3), 0px 1px 3px 1px rgba(60, 64, 67, 0.15);\n",
              "      fill: #174EA6;\n",
              "    }\n",
              "\n",
              "    [theme=dark] .colab-df-convert {\n",
              "      background-color: #3B4455;\n",
              "      fill: #D2E3FC;\n",
              "    }\n",
              "\n",
              "    [theme=dark] .colab-df-convert:hover {\n",
              "      background-color: #434B5C;\n",
              "      box-shadow: 0px 1px 3px 1px rgba(0, 0, 0, 0.15);\n",
              "      filter: drop-shadow(0px 1px 2px rgba(0, 0, 0, 0.3));\n",
              "      fill: #FFFFFF;\n",
              "    }\n",
              "  </style>\n",
              "\n",
              "      <script>\n",
              "        const buttonEl =\n",
              "          document.querySelector('#df-287e3175-ad53-4d0f-bad4-d856002f5259 button.colab-df-convert');\n",
              "        buttonEl.style.display =\n",
              "          google.colab.kernel.accessAllowed ? 'block' : 'none';\n",
              "\n",
              "        async function convertToInteractive(key) {\n",
              "          const element = document.querySelector('#df-287e3175-ad53-4d0f-bad4-d856002f5259');\n",
              "          const dataTable =\n",
              "            await google.colab.kernel.invokeFunction('convertToInteractive',\n",
              "                                                     [key], {});\n",
              "          if (!dataTable) return;\n",
              "\n",
              "          const docLinkHtml = 'Like what you see? Visit the ' +\n",
              "            '<a target=\"_blank\" href=https://colab.research.google.com/notebooks/data_table.ipynb>data table notebook</a>'\n",
              "            + ' to learn more about interactive tables.';\n",
              "          element.innerHTML = '';\n",
              "          dataTable['output_type'] = 'display_data';\n",
              "          await google.colab.output.renderOutput(dataTable, element);\n",
              "          const docLink = document.createElement('div');\n",
              "          docLink.innerHTML = docLinkHtml;\n",
              "          element.appendChild(docLink);\n",
              "        }\n",
              "      </script>\n",
              "    </div>\n",
              "  </div>\n",
              "  "
            ]
          },
          "metadata": {},
          "execution_count": 117
        }
      ]
    },
    {
      "cell_type": "code",
      "source": [
        "def calc_total_entropy(train_data, label, class_list):\n",
        "    total_row = train_data.shape[0] #the total size of the dataset\n",
        "    total_entr = 0\n",
        "    \n",
        "    for c in class_list: #for each class in the label\n",
        "        total_class_count = train_data[train_data[label] == c].shape[0] #number of the class\n",
        "        total_class_entr = - (total_class_count/total_row)*np.log2(total_class_count/total_row) #entropy of the class\n",
        "        total_entr += total_class_entr #adding the class entropy to the total entropy of the dataset\n",
        "        \n",
        "    return total_entr"
      ],
      "metadata": {
        "id": "gYx9ynupbnYN"
      },
      "execution_count": null,
      "outputs": []
    },
    {
      "cell_type": "code",
      "source": [
        "def calc_entropy(feature_value_data, label, class_list):\n",
        "    class_count = feature_value_data.shape[0]\n",
        "    entropy = 0\n",
        "    \n",
        "    for c in class_list:\n",
        "        label_class_count = feature_value_data[feature_value_data[label] == c].shape[0] #row count of class c \n",
        "        entropy_class = 0\n",
        "        if label_class_count != 0:\n",
        "            probability_class = label_class_count/class_count #probability of the class\n",
        "            entropy_class = - probability_class * np.log2(probability_class)  #entropy\n",
        "        entropy += entropy_class\n",
        "    return entropy"
      ],
      "metadata": {
        "id": "NMxFA_f4bumC"
      },
      "execution_count": null,
      "outputs": []
    },
    {
      "cell_type": "code",
      "source": [
        "def calc_info_gain(feature_name, train_data, label, class_list):\n",
        "    feature_value_list = train_data[feature_name].unique() #unqiue values of the feature\n",
        "    total_row = train_data.shape[0]\n",
        "    feature_info = 0.0\n",
        "    \n",
        "    for feature_value in feature_value_list:\n",
        "        feature_value_data = train_data[train_data[feature_name] == feature_value] #filtering rows with that feature_value\n",
        "        feature_value_count = feature_value_data.shape[0]\n",
        "        feature_value_entropy = calc_entropy(feature_value_data, label, class_list) #calculcating entropy for the feature value\n",
        "        feature_value_probability = feature_value_count/total_row\n",
        "        feature_info += feature_value_probability * feature_value_entropy #calculating information of the feature value\n",
        "        print('Feature value is {}, Entropy is {}'.format(feature_value, feature_value_entropy))\n",
        "\n",
        "    return calc_total_entropy(train_data, label, class_list) - feature_info #calculating information gain by subtracting view raw\n"
      ],
      "metadata": {
        "id": "IK1LAoapb1an"
      },
      "execution_count": null,
      "outputs": []
    },
    {
      "cell_type": "code",
      "source": [
        "def find_most_informative_feature(train_data, label, class_list):\n",
        "    feature_list = train_data.columns.drop(label) #finding the feature names in the dataset\n",
        "                                            #N.B. label is not a feature, so dropping it\n",
        "    max_info_gain = -1\n",
        "    max_info_feature = None\n",
        "    print(\"---------------\")\n",
        "    for feature in feature_list:  #for each feature in the dataset\n",
        "        print('Feature is {}'.format(feature))\n",
        "        feature_info_gain = calc_info_gain(feature, train_data, label, class_list)\n",
        "        print('{} Gain is {}'.format(feature,feature_info_gain))\n",
        "        if max_info_gain < feature_info_gain: #selecting feature name with highest information gain\n",
        "            max_info_gain = feature_info_gain\n",
        "            max_info_feature = feature\n",
        "    print('Root Node will be {}, having highest gain of {}'.format(max_info_feature,max_info_gain))   \n",
        "    return max_info_feature, max_info_gain"
      ],
      "metadata": {
        "id": "kkWd7OPscUhV"
      },
      "execution_count": null,
      "outputs": []
    },
    {
      "cell_type": "code",
      "source": [
        "def generate_sub_tree(feature_name, train_data, label, class_list):\n",
        "    feature_value_count_dict = train_data[feature_name].value_counts(sort=False) #dictionary of the count of unqiue feature value\n",
        "    tree = {} #sub tree or node\n",
        "    \n",
        "    for feature_value, count in feature_value_count_dict.iteritems():\n",
        "        feature_value_data = train_data[train_data[feature_name] == feature_value] #dataset with only feature_name = feature_value\n",
        "        \n",
        "        assigned_to_node = False #flag for tracking feature_value is pure class or not\n",
        "        for c in class_list: #for each class\n",
        "            class_count = feature_value_data[feature_value_data[label] == c].shape[0] #count of class c\n",
        "\n",
        "            if class_count == count: #count of feature_value = count of class (pure class)\n",
        "                tree[feature_value] = c #adding node to the tree\n",
        "                train_data = train_data[train_data[feature_name] != feature_value] #removing rows with feature_value\n",
        "                assigned_to_node = True\n",
        "        if not assigned_to_node: #not pure class\n",
        "            tree[feature_value] = \"?\" #should extend the node, so the branch is marked with ?\n",
        "            \n",
        "    return tree, train_data"
      ],
      "metadata": {
        "id": "K_x7bmmtcY8D"
      },
      "execution_count": null,
      "outputs": []
    },
    {
      "cell_type": "code",
      "source": [
        "def make_tree(root, prev_feature_value, train_data, label, class_list):\n",
        "    if train_data.shape[0] != 0: #if dataset becomes enpty after updating\n",
        "        max_info_feature, max_info_gain = find_most_informative_feature(train_data, label, class_list) #most informative feature\n",
        "        tree, train_data = generate_sub_tree(max_info_feature, train_data, label, class_list) #getting tree node and updated dataset\n",
        "        next_root = None\n",
        "        \n",
        "        if prev_feature_value != None: #add to intermediate node of the tree\n",
        "            root[prev_feature_value] = dict()\n",
        "            root[prev_feature_value][max_info_feature] = tree\n",
        "            next_root = root[prev_feature_value][max_info_feature]\n",
        "        else: #add to root of the tree\n",
        "            root[max_info_feature] = tree\n",
        "            next_root = root[max_info_feature]\n",
        "        \n",
        "        for node, branch in list(next_root.items()): #iterating the tree node\n",
        "            if branch == \"?\": #if it is expandable\n",
        "                feature_value_data = train_data[train_data[max_info_feature] == node] #using the updated dataset\n",
        "                make_tree(next_root, node, feature_value_data, label, class_list) #recursive call with updated dataset"
      ],
      "metadata": {
        "id": "-ex6c59Bceup"
      },
      "execution_count": null,
      "outputs": []
    },
    {
      "cell_type": "code",
      "source": [
        "def id3(train_data_m, label):\n",
        "    train_data = train_data_m.copy() #getting a copy of the dataset\n",
        "    tree = {} #tree which will be updated\n",
        "    class_list = train_data[label].unique() #getting unqiue classes of the label\n",
        "    make_tree(tree, None, train_data_m, label, class_list) #start calling recursion\n",
        "    return tree"
      ],
      "metadata": {
        "id": "2y_sEVBBcjjg"
      },
      "execution_count": null,
      "outputs": []
    },
    {
      "cell_type": "code",
      "source": [
        "ree = id3(df, 'enjoy movie')"
      ],
      "metadata": {
        "colab": {
          "base_uri": "https://localhost:8080/"
        },
        "id": "lAYQmrdKcpgx",
        "outputId": "b9925e04-3f99-47fb-804e-38403e362da3"
      },
      "execution_count": null,
      "outputs": [
        {
          "output_type": "stream",
          "name": "stdout",
          "text": [
            "---------------\n",
            "Feature is genre\n",
            "Feature value is romantic, Entropy is 0.9709505944546686\n",
            "Feature value is action, Entropy is 0.9182958340544896\n",
            "Feature value is thriller, Entropy is 0.9709505944546686\n",
            "Feature value is comedy, Entropy is 0.0\n",
            "genre Gain is 0.22582953145948093\n",
            "Feature is company\n",
            "Feature value is yes, Entropy is 0.4394969869215134\n",
            "Feature value is no, Entropy is 0.863120568566631\n",
            "company Gain is 0.31405634315987485\n",
            "Feature is origin\n",
            "Feature value is bollywood, Entropy is 0.8112781244591328\n",
            "Feature value is hollywood, Entropy is 0.9709505944546686\n",
            "Feature value is high, Entropy is 0.0\n",
            "origin Gain is 0.10773525262210415\n",
            "Feature is duration\n",
            "Feature value is short, Entropy is 0.6193821946787638\n",
            "Feature value is long, Entropy is 0.7219280948873623\n",
            "duration Gain is 0.27042866709555957\n",
            "Feature is time\n",
            "Feature value is morning, Entropy is 0.0\n",
            "Feature value is evening, Entropy is 0.5916727785823275\n",
            "time Gain is 0.6882008646058067\n",
            "Feature is place\n",
            "Feature value is home, Entropy is 0.9182958340544896\n",
            "Feature value is theatre, Entropy is 0.9544340029249649\n",
            "Feature value is change, Entropy is 0.0\n",
            "place Gain is 0.034955026838371483\n",
            "Root Node will be time, having highest gain of 0.6882008646058067\n",
            "---------------\n",
            "Feature is genre\n",
            "Feature value is thriller, Entropy is 0.0\n",
            "Feature value is romantic, Entropy is 0.0\n",
            "Feature value is comedy, Entropy is 0.0\n",
            "Feature value is action, Entropy is 0.0\n",
            "genre Gain is 0.5916727785823275\n",
            "Feature is company\n",
            "Feature value is no, Entropy is 0.0\n",
            "Feature value is yes, Entropy is 1.0\n",
            "company Gain is 0.3059584928680418\n",
            "Feature is origin\n",
            "Feature value is hollywood, Entropy is 0.0\n",
            "Feature value is bollywood, Entropy is 0.8112781244591328\n",
            "origin Gain is 0.12808527889139443\n",
            "Feature is duration\n",
            "Feature value is short, Entropy is 0.0\n",
            "Feature value is long, Entropy is 0.7219280948873623\n",
            "duration Gain is 0.0760098536627829\n",
            "Feature is time\n",
            "Feature value is evening, Entropy is 0.5916727785823275\n",
            "time Gain is 0.0\n",
            "Feature is place\n",
            "Feature value is theatre, Entropy is 0.8112781244591328\n",
            "Feature value is home, Entropy is 0.0\n",
            "place Gain is 0.12808527889139443\n",
            "Root Node will be genre, having highest gain of 0.5916727785823275\n"
          ]
        }
      ]
    },
    {
      "cell_type": "code",
      "source": [
        "ree"
      ],
      "metadata": {
        "id": "tMHwdKikr1zo",
        "outputId": "ed995d34-91ec-47ef-ba2d-1c4172204d8c",
        "colab": {
          "base_uri": "https://localhost:8080/"
        }
      },
      "execution_count": null,
      "outputs": [
        {
          "output_type": "execute_result",
          "data": {
            "text/plain": [
              "{'time': {'morning': 'yes',\n",
              "  'evening': {'genre': {'thriller': 'no',\n",
              "    'romantic': 'no',\n",
              "    'comedy': 'yes',\n",
              "    'action': 'no'}}}}"
            ]
          },
          "metadata": {},
          "execution_count": 129
        }
      ]
    },
    {
      "cell_type": "code",
      "source": [
        "import pydot\n",
        "\n",
        "def draw(parent_name, child_name):\n",
        "    edge = pydot.Edge(parent_name, child_name)\n",
        "    graph.add_edge(edge)\n",
        "\n",
        "def visit(node, parent=None):\n",
        "    for k,v in node.items():\n",
        "        if isinstance(v, dict):\n",
        "            # We start with the root node whose parent is None\n",
        "            # we don't want to graph the None node\n",
        "            if parent:\n",
        "                draw(parent, k)\n",
        "            visit(v, k)\n",
        "        else:\n",
        "            draw(parent, k)\n",
        "            # drawing the label using a distinct name\n",
        "            draw(k, k+'_'+v)\n",
        "\n",
        "graph = pydot.Dot(graph_type='graph')\n",
        "visit(ree)\n",
        "graph.write_png('example1_graph.png')"
      ],
      "metadata": {
        "id": "QOPDxTUchmHZ"
      },
      "execution_count": null,
      "outputs": []
    },
    {
      "cell_type": "code",
      "source": [
        "graph"
      ],
      "metadata": {
        "colab": {
          "base_uri": "https://localhost:8080/"
        },
        "id": "3IKryBpBcsZC",
        "outputId": "e7d60d48-5445-4067-b8ea-b77034d30fca"
      },
      "execution_count": null,
      "outputs": [
        {
          "output_type": "execute_result",
          "data": {
            "text/plain": [
              "<pydot.Dot at 0x7f4556fc99d0>"
            ]
          },
          "metadata": {},
          "execution_count": 127
        }
      ]
    }
  ]
}