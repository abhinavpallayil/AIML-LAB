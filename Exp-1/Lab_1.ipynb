{
 "cells": [
  {
   "cell_type": "code",
   "execution_count": 1,
   "id": "df67e2d9",
   "metadata": {},
   "outputs": [],
   "source": [
    "import pandas as pd\n",
    "import numpy as np\n",
    "data = pd.read_csv('heart_data.csv')"
   ]
  },
  {
   "cell_type": "code",
   "execution_count": 3,
   "id": "3e708215",
   "metadata": {},
   "outputs": [
    {
     "name": "stdout",
     "output_type": "stream",
     "text": [
      "n The attributes are:  [[40 'Male' ' typical angina' 140 289 '> 120 mg/dl' 'Normal' 172\n",
      "  'Upsloping']\n",
      " [49 'Female' 'asymptomatic' 160 180 '<120 mg/dl' 'Normal' 156 'Flat']\n",
      " [37 'Male' ' typical angina' 130 283 '> 120 mg/dl' 'Abnormality' 98\n",
      "  'Upsloping']\n",
      " [48 'Female' 'asymptomatic' 138 214 '<120 mg/dl' 'Normal' 108 'Flat']\n",
      " [54 'Male' ' non-anginal pain' 150 195 '> 120 mg/dl' 'Normal' 122\n",
      "  'Upsloping']\n",
      " [39 'Male' ' non-anginal pain' 120 339 '> 120 mg/dl' 'Normal' 170\n",
      "  'Upsloping']\n",
      " [45 'Female' ' typical angina' 130 237 '> 120 mg/dl' 'Normal' 170\n",
      "  'Upsloping']\n",
      " [54 'Male' ' typical angina' 110 208 '> 120 mg/dl' 'Normal' 142\n",
      "  'Upsloping']\n",
      " [37 'Male' 'asymptomatic' 140 207 '<120 mg/dl' 'Normal' 130 'Flat']\n",
      " [48 'Female' ' typical angina' 120 284 '> 120 mg/dl' 'Normal' 120\n",
      "  'Upsloping']\n",
      " [37 'Female' ' non-anginal pain' 130 211 '> 120 mg/dl' 'Normal' 142\n",
      "  'Upsloping']\n",
      " [58 'Male' 'typical' 136 164 '<120 mg/dl' 'Abnormality' 99 'Flat']\n",
      " [39 'Male' ' typical angina' 120 204 '> 120 mg/dl' 'Normal' 145\n",
      "  'Upsloping']\n",
      " [49 'Male' 'asymptomatic' 140 234 '<120 mg/dl' 'Normal' 140 'Flat']\n",
      " [42 'Female' ' non-anginal pain' 115 211 '> 120 mg/dl' 'Abnormality' 137\n",
      "  'Upsloping']\n",
      " [54 'Female' ' typical angina' 120 273 '> 120 mg/dl' 'Normal' 150\n",
      "  'Upsloping']\n",
      " [38 'Male' 'asymptomatic' 110 196 '<120 mg/dl' 'Normal' 166 'Flat']\n",
      " [43 'Female' ' typical angina' 120 201 '> 120 mg/dl' 'Normal' 165\n",
      "  'Upsloping']\n",
      " [60 'Male' 'asymptomatic' 100 248 '<120 mg/dl' 'Normal' 125 'Flat']\n",
      " [36 'Male' 'asymptomatic' 120 267 '<120 mg/dl' 'Normal' 160 'Flat']\n",
      " [43 'Female' 'typical' 100 223 '> 120 mg/dl' 'Normal' 142 'Upsloping']\n",
      " [44 'Male' ' typical angina' 120 184 '> 120 mg/dl' 'Normal' 142 'Flat']\n",
      " [49 'Female' ' typical angina' 124 201 '> 120 mg/dl' 'Normal' 164\n",
      "  'Upsloping']\n",
      " [44 'Male' 'asymptomatic' 150 288 '<120 mg/dl' 'Normal' 150 'Flat']\n",
      " [40 'Male' ' non-anginal pain' 130 215 '> 120 mg/dl' 'Normal' 138\n",
      "  'Upsloping']\n",
      " [36 'Male' ' non-anginal pain' 130 209 '> 120 mg/dl' 'Normal' 178\n",
      "  'Upsloping']\n",
      " [53 'Male' 'typical' 124 260 '> 120 mg/dl' 'Abnormality' 112 'Flat']]\n"
     ]
    }
   ],
   "source": [
    "d = np.array(data)[:,:-1]\n",
    "print(\"n The attributes are: \",d)"
   ]
  },
  {
   "cell_type": "code",
   "execution_count": 4,
   "id": "6970df37",
   "metadata": {},
   "outputs": [
    {
     "name": "stdout",
     "output_type": "stream",
     "text": [
      "n The target is:  ['No' 'Yes' 'No' 'Yes' 'No' 'No' 'No' 'No' 'Yes' 'No' 'No' 'Yes' 'No'\n",
      " 'Yes' 'No' 'No' 'Yes' 'No' 'Yes' 'Yes' 'No' 'No' 'No' 'Yes' 'No' 'No'\n",
      " 'No']\n"
     ]
    }
   ],
   "source": [
    "target = np.array(data)[:,-1]\n",
    "print(\"n The target is: \",target)"
   ]
  },
  {
   "cell_type": "code",
   "execution_count": 5,
   "id": "7d980716",
   "metadata": {},
   "outputs": [],
   "source": [
    "def train(c,t):\n",
    "    for i, val in enumerate(t):\n",
    "        if val == \"Yes\":\n",
    "            specific_hypothesis = c[i].copy()\n",
    "            break\n",
    "             \n",
    "    for i, val in enumerate(c):\n",
    "        if t[i] == \"Yes\":\n",
    "            for x in range(len(specific_hypothesis)):\n",
    "                if val[x] != specific_hypothesis[x]:\n",
    "                    specific_hypothesis[x] = '?'\n",
    "                else:\n",
    "                    pass\n",
    "                 \n",
    "    return specific_hypothesis"
   ]
  },
  {
   "cell_type": "code",
   "execution_count": 6,
   "id": "1d15ae94",
   "metadata": {},
   "outputs": [
    {
     "name": "stdout",
     "output_type": "stream",
     "text": [
      "n The final hypothesis is: ['?' '?' '?' '?' '?' '<120 mg/dl' '?' '?' 'Flat']\n"
     ]
    }
   ],
   "source": [
    "print(\"n The final hypothesis is:\",train(d,target))"
   ]
  }
 ],
 "metadata": {
  "kernelspec": {
   "display_name": "Python 3 (ipykernel)",
   "language": "python",
   "name": "python3"
  },
  "language_info": {
   "codemirror_mode": {
    "name": "ipython",
    "version": 3
   },
   "file_extension": ".py",
   "mimetype": "text/x-python",
   "name": "python",
   "nbconvert_exporter": "python",
   "pygments_lexer": "ipython3",
   "version": "3.9.12"
  }
 },
 "nbformat": 4,
 "nbformat_minor": 5
}
